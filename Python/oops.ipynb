{
 "cells": [
  {
   "cell_type": "markdown",
   "id": "45049fc4",
   "metadata": {},
   "source": [
    "<h4>OOPs concept</h4>"
   ]
  },
  {
   "cell_type": "code",
   "execution_count": null,
   "id": "529d70f8",
   "metadata": {},
   "outputs": [],
   "source": [
    "# class keyword is needede to create a class\n",
    "\n",
    "# class Student:\n",
    "    # pass\n",
    "\n",
    "# obj = Student()"
   ]
  },
  {
   "cell_type": "code",
   "execution_count": null,
   "id": "f601187a",
   "metadata": {},
   "outputs": [],
   "source": [
    "class Class_name:\n",
    "    pass"
   ]
  },
  {
   "cell_type": "code",
   "execution_count": null,
   "id": "61dec1e5",
   "metadata": {},
   "outputs": [],
   "source": [
    "class Class_name:\n",
    "    pass\n",
    "class_obj=Class_name()"
   ]
  },
  {
   "cell_type": "code",
   "execution_count": 4,
   "id": "aad3b834",
   "metadata": {},
   "outputs": [],
   "source": [
    "class Student:\n",
    "    pass\n",
    "student1=Student()"
   ]
  },
  {
   "cell_type": "code",
   "execution_count": 10,
   "id": "e09bbed1",
   "metadata": {},
   "outputs": [],
   "source": [
    "class Student:                                #class name define\n",
    "    student_name=\"rohit\"                      #class variable\n",
    "    classes=\"second\"                          #class variable\n",
    "    roll_number=\"22eemcs102\"\n",
    "student_obj=Student()                        #calling the class"
   ]
  },
  {
   "cell_type": "code",
   "execution_count": 6,
   "id": "0f130572",
   "metadata": {},
   "outputs": [
    {
     "data": {
      "text/plain": [
       "()"
      ]
     },
     "execution_count": 6,
     "metadata": {},
     "output_type": "execute_result"
    }
   ],
   "source": [
    "()"
   ]
  },
  {
   "cell_type": "code",
   "execution_count": 11,
   "id": "9f326533",
   "metadata": {},
   "outputs": [
    {
     "name": "stdout",
     "output_type": "stream",
     "text": [
      "rohit\n"
     ]
    }
   ],
   "source": [
    "print(student_obj.student_name)"
   ]
  },
  {
   "cell_type": "code",
   "execution_count": 22,
   "id": "3fbed323",
   "metadata": {},
   "outputs": [],
   "source": [
    "class College:\n",
    "    student_name=\"riddhi\"\n",
    "    roll_number=21\n",
    "    student_class=\"second\"\n",
    "\n",
    "    def display(self):\n",
    "        print(f\"student name is {self.student_name}, roll number is {self.roll_number} and classs of student is {self.student_class}\")\n",
    "        print(self.student_name)\n",
    "\n",
    "clg=College()"
   ]
  },
  {
   "cell_type": "code",
   "execution_count": 23,
   "id": "4fe138ba",
   "metadata": {},
   "outputs": [
    {
     "data": {
      "text/plain": [
       "'second'"
      ]
     },
     "execution_count": 23,
     "metadata": {},
     "output_type": "execute_result"
    }
   ],
   "source": [
    "clg.student_class"
   ]
  },
  {
   "cell_type": "code",
   "execution_count": 24,
   "id": "6db687aa",
   "metadata": {},
   "outputs": [
    {
     "data": {
      "text/plain": [
       "'riddhi'"
      ]
     },
     "execution_count": 24,
     "metadata": {},
     "output_type": "execute_result"
    }
   ],
   "source": [
    "clg.student_name"
   ]
  },
  {
   "cell_type": "code",
   "execution_count": 25,
   "id": "6a1cfbfd",
   "metadata": {},
   "outputs": [
    {
     "data": {
      "text/plain": [
       "21"
      ]
     },
     "execution_count": 25,
     "metadata": {},
     "output_type": "execute_result"
    }
   ],
   "source": [
    "clg.roll_number"
   ]
  },
  {
   "cell_type": "code",
   "execution_count": 26,
   "id": "688f22ca",
   "metadata": {},
   "outputs": [],
   "source": [
    "# display()"
   ]
  },
  {
   "cell_type": "code",
   "execution_count": 27,
   "id": "9ab1643e",
   "metadata": {},
   "outputs": [
    {
     "name": "stdout",
     "output_type": "stream",
     "text": [
      "student name is riddhi, roll number is 21 and classs of student is second\n",
      "riddhi\n"
     ]
    }
   ],
   "source": [
    "clg.display()"
   ]
  },
  {
   "cell_type": "markdown",
   "id": "8682d315",
   "metadata": {},
   "source": [
    "<h2> Inheritance in python </h2>"
   ]
  },
  {
   "cell_type": "markdown",
   "id": "fd0d71ad",
   "metadata": {},
   "source": [
    "| *Type of Inheritance*      | *Description*                                                                       | *Diagram Example*        |\n",
    "| ---------------------------- | ------------------------------------------------------------------------------------- | -------------------------- |\n",
    "| *Single Inheritance*       | A child class inherits from a single parent class.                                    | A → B                    |\n",
    "| *Multiple Inheritance*     | A child class inherits from more than one parent class.                               | A → C ← B                |\n",
    "| *Multilevel Inheritance*   | A child class inherits from a parent class, which itself inherits from another class. | A → B → C                |\n",
    "| *Hierarchical Inheritance* | Multiple child classes inherit from the same parent class.                            | ` A → B`<br>` A → C`       |\n",
    "| *Hybrid Inheritance*       | A combination of two or more types of inheritance.                                    | Combination of above forms |"
   ]
  },
  {
   "cell_type": "code",
   "execution_count": null,
   "id": "bd769f3c",
   "metadata": {},
   "outputs": [],
   "source": [
    "####inheritence in python \n",
    "\n",
    "#single\n",
    "#multiple\n",
    "#multi-level\n",
    "#hierarchical\n",
    "#hybrid"
   ]
  },
  {
   "cell_type": "code",
   "execution_count": 33,
   "id": "3873f3f2",
   "metadata": {},
   "outputs": [],
   "source": [
    "class A:\n",
    "    name=\"Govind\"\n",
    "\n",
    "class B(A):\n",
    "    b_name=\"kumawat\"\n",
    "\n",
    "obj=B()"
   ]
  },
  {
   "cell_type": "code",
   "execution_count": 35,
   "id": "026784b7",
   "metadata": {},
   "outputs": [
    {
     "data": {
      "text/plain": [
       "'Govind'"
      ]
     },
     "execution_count": 35,
     "metadata": {},
     "output_type": "execute_result"
    }
   ],
   "source": [
    "obj.name"
   ]
  },
  {
   "cell_type": "code",
   "execution_count": 36,
   "id": "957636c1",
   "metadata": {},
   "outputs": [],
   "source": [
    "class A:\n",
    "    name=\"govind\"\n",
    "\n",
    "class B:\n",
    "    b_name=\"kumar\"\n",
    "\n",
    "class C(A,B):\n",
    "    c_name=\"kumawat\"\n",
    "\n",
    "obj=C()"
   ]
  },
  {
   "cell_type": "code",
   "execution_count": 37,
   "id": "a6eb385f",
   "metadata": {},
   "outputs": [
    {
     "data": {
      "text/plain": [
       "'govind'"
      ]
     },
     "execution_count": 37,
     "metadata": {},
     "output_type": "execute_result"
    }
   ],
   "source": [
    "obj.name"
   ]
  },
  {
   "cell_type": "code",
   "execution_count": 39,
   "id": "94f63913",
   "metadata": {},
   "outputs": [
    {
     "data": {
      "text/plain": [
       "'kumar'"
      ]
     },
     "execution_count": 39,
     "metadata": {},
     "output_type": "execute_result"
    }
   ],
   "source": [
    "obj.b_name"
   ]
  },
  {
   "cell_type": "code",
   "execution_count": 46,
   "id": "e5a703da",
   "metadata": {},
   "outputs": [],
   "source": [
    "class Father:\n",
    "    def skill(self):\n",
    "        print(\"programmer\")\n",
    "class Mother:\n",
    "    def home(self):\n",
    "        print(\"housewife\")\n",
    "class Child(Father, Mother):\n",
    "    def display(self):\n",
    "        print(\"i am a student\")\n",
    "\n",
    "ch_obj=Child()"
   ]
  },
  {
   "cell_type": "code",
   "execution_count": 47,
   "id": "967d0fce",
   "metadata": {},
   "outputs": [
    {
     "name": "stdout",
     "output_type": "stream",
     "text": [
      "programmer\n"
     ]
    }
   ],
   "source": [
    "ch_obj.skill()"
   ]
  },
  {
   "cell_type": "code",
   "execution_count": 48,
   "id": "3012acef",
   "metadata": {},
   "outputs": [
    {
     "name": "stdout",
     "output_type": "stream",
     "text": [
      "housewife\n"
     ]
    }
   ],
   "source": [
    "ch_obj.home()"
   ]
  },
  {
   "cell_type": "code",
   "execution_count": 50,
   "id": "8db72ac8",
   "metadata": {},
   "outputs": [
    {
     "name": "stdout",
     "output_type": "stream",
     "text": [
      "i am a student\n"
     ]
    }
   ],
   "source": [
    "ch_obj.display()"
   ]
  },
  {
   "cell_type": "code",
   "execution_count": 14,
   "id": "1437252d",
   "metadata": {},
   "outputs": [],
   "source": [
    "class Grandfather():\n",
    "    def chill(self):\n",
    "        print(\"farmer\")\n",
    "\n",
    "class Father(Grandfather):\n",
    "    def skill(self):\n",
    "        print(\"farmer and programmer\")\n",
    "\n",
    "class Child(Father):\n",
    "    def display(self):\n",
    "        print(\"i am a student\")\n",
    "\n",
    "ch_obj=Child()\n",
    "\n",
    "\n"
   ]
  },
  {
   "cell_type": "code",
   "execution_count": 15,
   "id": "36968bc0",
   "metadata": {},
   "outputs": [
    {
     "name": "stdout",
     "output_type": "stream",
     "text": [
      "farmer and programmer\n"
     ]
    }
   ],
   "source": [
    "ch_obj.skill()"
   ]
  },
  {
   "cell_type": "code",
   "execution_count": null,
   "id": "c4bd07ac",
   "metadata": {},
   "outputs": [],
   "source": [
    "#<bound method Father.skill of <__main__.Child object at 0x000002292D380650>>\n",
    "\n",
    "\n",
    "# 3taskkkk\n",
    "\n",
    "\n",
    "\n",
    "# __ private\n",
    "# _protected"
   ]
  },
  {
   "cell_type": "code",
   "execution_count": null,
   "id": "b834bc3d",
   "metadata": {},
   "outputs": [],
   "source": [
    "class Clg():\n",
    "    _placement=1000000\n",
    "    __salary=150000\n",
    "    clg_name=\"gweca\"\n",
    "\n",
    "\n",
    "college=Clg()"
   ]
  },
  {
   "cell_type": "code",
   "execution_count": 61,
   "id": "a1566839",
   "metadata": {},
   "outputs": [
    {
     "data": {
      "text/plain": [
       "1000000"
      ]
     },
     "execution_count": 61,
     "metadata": {},
     "output_type": "execute_result"
    }
   ],
   "source": [
    "college._placement"
   ]
  },
  {
   "cell_type": "code",
   "execution_count": null,
   "id": "71346c0e",
   "metadata": {},
   "outputs": [
    {
     "data": {
      "text/plain": [
       "150000"
      ]
     },
     "execution_count": 64,
     "metadata": {},
     "output_type": "execute_result"
    }
   ],
   "source": [
    "college._Clg__salary        #_classname__private var name"
   ]
  },
  {
   "cell_type": "markdown",
   "id": "70e45ae9",
   "metadata": {},
   "source": [
    "<h2>Polymorphism</h2>"
   ]
  },
  {
   "cell_type": "code",
   "execution_count": 6,
   "id": "d41a11dd",
   "metadata": {},
   "outputs": [],
   "source": [
    "#task        use one function to do multiple works"
   ]
  },
  {
   "cell_type": "code",
   "execution_count": 9,
   "id": "3f31d820",
   "metadata": {},
   "outputs": [],
   "source": [
    "class A:\n",
    "    def display(self):\n",
    "        print(\"A\")\n",
    "class B:   \n",
    "    def display(self):\n",
    "        print(\"B\")\n",
    "\n",
    "\n",
    "objA=A()\n",
    "objB=B()"
   ]
  },
  {
   "cell_type": "code",
   "execution_count": 10,
   "id": "cbb1b26e",
   "metadata": {},
   "outputs": [
    {
     "name": "stdout",
     "output_type": "stream",
     "text": [
      "A\n"
     ]
    }
   ],
   "source": [
    "objA.display()"
   ]
  },
  {
   "cell_type": "code",
   "execution_count": 11,
   "id": "7e63c627",
   "metadata": {},
   "outputs": [
    {
     "name": "stdout",
     "output_type": "stream",
     "text": [
      "B\n"
     ]
    }
   ],
   "source": [
    "objB.display()"
   ]
  },
  {
   "cell_type": "code",
   "execution_count": 20,
   "id": "3ca6f420",
   "metadata": {},
   "outputs": [],
   "source": [
    "class Addition:\n",
    "    def add(self,a=0,b=0,c=0):\n",
    "        print(\"Addition is: \",a+b+c)\n",
    "\n",
    "obj=Addition()\n",
    "\n"
   ]
  },
  {
   "cell_type": "code",
   "execution_count": null,
   "id": "e51764bc",
   "metadata": {},
   "outputs": [
    {
     "name": "stdout",
     "output_type": "stream",
     "text": [
      "Addition is:  6\n"
     ]
    }
   ],
   "source": [
    "obj.add(1,2,3)"
   ]
  },
  {
   "cell_type": "code",
   "execution_count": 21,
   "id": "a52d4002",
   "metadata": {},
   "outputs": [
    {
     "name": "stdout",
     "output_type": "stream",
     "text": [
      "Addition is:  3\n"
     ]
    }
   ],
   "source": [
    "obj.add(1,2)\n"
   ]
  },
  {
   "cell_type": "code",
   "execution_count": 26,
   "id": "e06bc1ad",
   "metadata": {},
   "outputs": [
    {
     "name": "stdout",
     "output_type": "stream",
     "text": [
      "programmer\n"
     ]
    }
   ],
   "source": [
    "class Father():\n",
    "    def skill(self):\n",
    "        print(\"programmer\")\n",
    "\n",
    "class Child(Father):\n",
    "    def display(self):\n",
    "        print(\"student\")\n",
    "\n",
    "objF=Father()\n",
    "objC=Child()\n",
    "\n",
    "objF.skill()\n"
   ]
  },
  {
   "cell_type": "code",
   "execution_count": 25,
   "id": "a5f02b17",
   "metadata": {},
   "outputs": [
    {
     "name": "stdout",
     "output_type": "stream",
     "text": [
      "student\n"
     ]
    }
   ],
   "source": [
    "objC.display()\n"
   ]
  },
  {
   "cell_type": "code",
   "execution_count": null,
   "id": "6f6a7f7f",
   "metadata": {},
   "outputs": [],
   "source": []
  }
 ],
 "metadata": {
  "kernelspec": {
   "display_name": "Python 3",
   "language": "python",
   "name": "python3"
  },
  "language_info": {
   "codemirror_mode": {
    "name": "ipython",
    "version": 3
   },
   "file_extension": ".py",
   "mimetype": "text/x-python",
   "name": "python",
   "nbconvert_exporter": "python",
   "pygments_lexer": "ipython3",
   "version": "3.11.5"
  }
 },
 "nbformat": 4,
 "nbformat_minor": 5
}
