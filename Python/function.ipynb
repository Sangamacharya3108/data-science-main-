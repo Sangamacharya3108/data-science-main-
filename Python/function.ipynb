{
 "cells": [
  {
   "cell_type": "code",
   "execution_count": null,
   "id": "d92cf425",
   "metadata": {},
   "outputs": [],
   "source": [
    "#create function\n"
   ]
  },
  {
   "cell_type": "code",
   "execution_count": 3,
   "id": "378eaf2b",
   "metadata": {},
   "outputs": [
    {
     "data": {
      "text/plain": [
       "4"
      ]
     },
     "execution_count": 3,
     "metadata": {},
     "output_type": "execute_result"
    }
   ],
   "source": [
    "def square(a):\n",
    "    return a**2\n",
    "square(a=2)"
   ]
  },
  {
   "cell_type": "code",
   "execution_count": 11,
   "id": "2828e0cf",
   "metadata": {},
   "outputs": [
    {
     "name": "stdout",
     "output_type": "stream",
     "text": [
      "name is ritik and class is second\n"
     ]
    }
   ],
   "source": [
    "def show(name, my_class=\"second\"):\n",
    "    print(f\"name is {name} and class is {my_class}\")\n",
    "show(name=\"ritik\")"
   ]
  },
  {
   "cell_type": "code",
   "execution_count": 12,
   "id": "9d776b5f",
   "metadata": {},
   "outputs": [
    {
     "name": "stdout",
     "output_type": "stream",
     "text": [
      "name is diya and class is third\n"
     ]
    }
   ],
   "source": [
    "show(name=\"diya\", my_class=\"third\")"
   ]
  },
  {
   "cell_type": "code",
   "execution_count": 17,
   "id": "2e7ee7f1",
   "metadata": {},
   "outputs": [
    {
     "name": "stdout",
     "output_type": "stream",
     "text": [
      "even\n"
     ]
    }
   ],
   "source": [
    "number=int(input(\"enter a number\"))\n",
    "\n",
    "def oddeven(number):\n",
    "    if number % 2 == 0:\n",
    "        print(\"even\")\n",
    "    \n",
    "    else:\n",
    "        print(\"odd\")\n",
    "\n",
    "oddeven(number)"
   ]
  },
  {
   "cell_type": "code",
   "execution_count": 1,
   "id": "05611ac7",
   "metadata": {},
   "outputs": [
    {
     "name": "stdout",
     "output_type": "stream",
     "text": [
      "c is largest\n"
     ]
    }
   ],
   "source": [
    "def largest(a,b,c):\n",
    "    if(a>b and a>c):\n",
    "        print(\"a is largest\")\n",
    "    \n",
    "    elif(b>a and b>c):\n",
    "        print(\"b is largest\")\n",
    "\n",
    "    else:\n",
    "        print(\"c is largest\")\n",
    "\n",
    "largest(a=1,b=2,c=3)\n"
   ]
  },
  {
   "cell_type": "code",
   "execution_count": 2,
   "id": "110eca72",
   "metadata": {},
   "outputs": [],
   "source": [
    "#lambda is keyword\n",
    "square=lambda a: a**2"
   ]
  },
  {
   "cell_type": "code",
   "execution_count": 3,
   "id": "a836ab21",
   "metadata": {},
   "outputs": [
    {
     "data": {
      "text/plain": [
       "16"
      ]
     },
     "execution_count": 3,
     "metadata": {},
     "output_type": "execute_result"
    }
   ],
   "source": [
    "square(a=4)"
   ]
  },
  {
   "cell_type": "code",
   "execution_count": 4,
   "id": "5e79b057",
   "metadata": {},
   "outputs": [
    {
     "data": {
      "text/plain": [
       "9"
      ]
     },
     "execution_count": 4,
     "metadata": {},
     "output_type": "execute_result"
    }
   ],
   "source": [
    "add=lambda a,b:a+b\n",
    "\n",
    "add(a=4,b=5)"
   ]
  },
  {
   "cell_type": "code",
   "execution_count": null,
   "id": "99a90fe4",
   "metadata": {},
   "outputs": [],
   "source": []
  }
 ],
 "metadata": {
  "kernelspec": {
   "display_name": "Python 3",
   "language": "python",
   "name": "python3"
  },
  "language_info": {
   "codemirror_mode": {
    "name": "ipython",
    "version": 3
   },
   "file_extension": ".py",
   "mimetype": "text/x-python",
   "name": "python",
   "nbconvert_exporter": "python",
   "pygments_lexer": "ipython3",
   "version": "3.11.5"
  }
 },
 "nbformat": 4,
 "nbformat_minor": 5
}
