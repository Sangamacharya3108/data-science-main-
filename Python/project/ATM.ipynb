# ATM

# check balance
# deposit
# withdraw



user_data={
   1234: {'balance':10000, 'name':Ram },
   2345: {'balance':5000, 'name':Shyam}
}

def Atm():
    print("Welcome to ATM")
    user_pin=int(input("enter your pin: "))
    
