{
 "cells": [
  {
   "cell_type": "markdown",
   "id": "9cd5b47f",
   "metadata": {},
   "source": [
    "<h1>conditional statement in python</h1>"
   ]
  },
  {
   "cell_type": "code",
   "execution_count": 15,
   "id": "205851f2",
   "metadata": {},
   "outputs": [],
   "source": [
    "# if:\n",
    "#     pass #pass is a placeholder\n",
    "# else:\n",
    "#     pass "
   ]
  },
  {
   "cell_type": "code",
   "execution_count": 16,
   "id": "973a722a",
   "metadata": {},
   "outputs": [
    {
     "name": "stdout",
     "output_type": "stream",
     "text": [
      "10 is greater\n"
     ]
    }
   ],
   "source": [
    "if 10>5:\n",
    "    print(\"10 is greater\")"
   ]
  },
  {
   "cell_type": "code",
   "execution_count": 18,
   "id": "1c96c9aa",
   "metadata": {},
   "outputs": [
    {
     "name": "stdout",
     "output_type": "stream",
     "text": [
      "10 is not greater\n"
     ]
    }
   ],
   "source": [
    "if 10<5:\n",
    "    print(\"10 is greater\")\n",
    "\n",
    "else:\n",
    "    print(\"10 is not greater\")"
   ]
  },
  {
   "cell_type": "code",
   "execution_count": 20,
   "id": "0060c1cb",
   "metadata": {},
   "outputs": [],
   "source": [
    "if 10>5:\n",
    "    pass\n",
    "else:\n",
    "    pass"
   ]
  },
  {
   "cell_type": "code",
   "execution_count": 1,
   "id": "7ba39317",
   "metadata": {},
   "outputs": [
    {
     "name": "stdout",
     "output_type": "stream",
     "text": [
      "10 is not greater\n"
     ]
    }
   ],
   "source": [
    "if 10<5:\n",
    "    print(\"10 is greater\")\n",
    "\n",
    "elif 5>10:\n",
    "    print(\"elif block will run\")\n",
    "\n",
    "else:\n",
    "    print(\"10 is not greater\")"
   ]
  },
  {
   "cell_type": "code",
   "execution_count": null,
   "id": "cbb75f8d",
   "metadata": {},
   "outputs": [],
   "source": [
    "# a =10\n",
    "# b= 20\n",
    "# c= 30\n",
    "\n",
    "# list=[2,4,5,6,6,7,90]  find the largest number\n",
    "\n",
    "\n"
   ]
  },
  {
   "cell_type": "code",
   "execution_count": null,
   "id": "0d6d5b74",
   "metadata": {},
   "outputs": [],
   "source": []
  }
 ],
 "metadata": {
  "kernelspec": {
   "display_name": "Python 3",
   "language": "python",
   "name": "python3"
  },
  "language_info": {
   "codemirror_mode": {
    "name": "ipython",
    "version": 3
   },
   "file_extension": ".py",
   "mimetype": "text/x-python",
   "name": "python",
   "nbconvert_exporter": "python",
   "pygments_lexer": "ipython3",
   "version": "3.11.5"
  }
 },
 "nbformat": 4,
 "nbformat_minor": 5
}
